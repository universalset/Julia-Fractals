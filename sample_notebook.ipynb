{
 "cells": [
  {
   "cell_type": "markdown",
   "id": "cdf4bb29",
   "metadata": {},
   "source": [
    "# Sample Fractal Generations\n",
    "\n",
    "This notebook contains some demonstrations of fractal generation using the provided functions.\n",
    "\n",
    "To get started, select Cell->Run All and see some sample fractals."
   ]
  },
  {
   "cell_type": "markdown",
   "id": "653dfa3d",
   "metadata": {},
   "source": [
    "## Load Package\n",
    "\n",
    "The first time you run this, it may need some time to build."
   ]
  },
  {
   "cell_type": "code",
   "execution_count": null,
   "id": "7ca28006",
   "metadata": {},
   "outputs": [],
   "source": [
    "using JuliaFractals\n",
    "using FileIO: save"
   ]
  },
  {
   "cell_type": "markdown",
   "id": "31c4bacd",
   "metadata": {},
   "source": [
    "## The Most Basic Usage\n",
    "\n",
    "The `juliaset` function is the basic function for generating images of Julia sets.  (Actually, it colorizes the complement of the filled Julia set.)  It can take many parameters, of which you can see a few demonstrated here.  See the source code for a detailed description.\n",
    "\n",
    "The most basic usage of `juliaset` involves supplying a single complex parameter.  Most numbers, though, don't result in an interesting picture.  Here is one that does.\n",
    "\n",
    "Note that we call `showimg` on the output of `juliaset`, which is an array of color triples, to convert it into an image which can be displayed or saved."
   ]
  },
  {
   "cell_type": "code",
   "execution_count": null,
   "id": "9c5fe1b2",
   "metadata": {},
   "outputs": [],
   "source": [
    "samplejuliabasic = showimg(\n",
    "    juliaset(0.0+.642im)\n",
    ")"
   ]
  },
  {
   "cell_type": "markdown",
   "id": "0b20052e",
   "metadata": {},
   "source": [
    "## Saving Images\n",
    "\n",
    "If you have an image object, you can use the FileIO function `save`, extended by the Images library, to save the image to a variety of formats: .gif, .png, etc.  The file type is determined by the extension.\n",
    "\n",
    "Animations (not demonstrated in this notebook since they can't be directly displayed easily) should be saved as animated .gif files -- see the examples at the end of the `samples.jl` script.\n",
    "\n",
    "Uncomment the cell below and run it to save the above image."
   ]
  },
  {
   "cell_type": "code",
   "execution_count": null,
   "id": "51dc69da",
   "metadata": {},
   "outputs": [],
   "source": [
    "# save(\"sample_julia_basic.gif\", samplejuliabasic)"
   ]
  },
  {
   "cell_type": "markdown",
   "id": "68d58259",
   "metadata": {},
   "source": [
    "## Color Schemes\n",
    "\n",
    "We can change the color scheme by specifying a vector of color specifications, each of which is a triple of RGB values between 0.0 (no saturation) and 1.0 (full saturation).  The fractal generator chooses a color for each pixel by checking how many iterations the function takes to escape (exceed an absolute value threshhold) when iteration is started on a complex number corresponding to that pixel.  It then interpolates between the colors in the list based on the number of iterations taken as a fraction of the `maxiters` parameter.\n",
    "\n",
    "Complex numbers in the filled Julia set, plus any which are outside it but don't manage to escape in `maxiters` iterations, are colored black.\n",
    "\n",
    "The below generates the same fractal as above, but colorizes it differently."
   ]
  },
  {
   "cell_type": "code",
   "execution_count": null,
   "id": "d0e6cdc6",
   "metadata": {},
   "outputs": [],
   "source": [
    "purplecolors = [[1.0,1.0,1.0], [0.9,0.5,1.0], [0.85,0.25,1.0], [0.825,0.125,1.0], [0.8,0.0,1.0]]\n",
    "\n",
    "samplejuliapurple = showimg(\n",
    "    juliaset(\n",
    "        0.0+.642im,\n",
    "        colors=purplecolors,\n",
    "    )\n",
    ")\n"
   ]
  },
  {
   "cell_type": "markdown",
   "id": "57bd22c9",
   "metadata": {},
   "source": [
    "## Alternative Functions\n",
    "\n",
    "The default Julia sets are for functions in the family `f(z) = z^2 + c`.  We can find Julia sets for other functions as well.  The `func` argument lets us specify a function family as a function of two variables.  It's recommended to use polynomial (or maybe rational) functions of the form `func(z,c) = h(z) + c` with degree at least 2.\n",
    "\n",
    "This one uses a cubic, rather than quadratic, function."
   ]
  },
  {
   "cell_type": "code",
   "execution_count": null,
   "id": "2692f4ad",
   "metadata": {},
   "outputs": [],
   "source": [
    "cubicfunc(z,c) = z^3 + c\n",
    "samplejuliacubic = showimg(\n",
    "    juliaset(\n",
    "        -0.582819 + 0.314035im,\n",
    "        func = cubicfunc,\n",
    "    )\n",
    ")"
   ]
  },
  {
   "cell_type": "markdown",
   "id": "74612b32",
   "metadata": {},
   "source": [
    "## Changing Size and Viewport\n",
    "\n",
    "Different function families benefit from different domains of complex numbers being drawn.  We can change the domain by specifying the `xdomain` (for the real part) and `ydomain` (for the imaginary part).\n",
    "\n",
    "If we change the domain, we should also change the image size as well, to keep the x/y ratio in sync with the domain.  We can also scale up or down to get more detail or save runtime.\n",
    "\n",
    "The below draws the same fractal as above, but trims the viewport horizontally and scales the image up."
   ]
  },
  {
   "cell_type": "code",
   "execution_count": null,
   "id": "6fa8352e",
   "metadata": {},
   "outputs": [],
   "source": [
    "samplejuliacubicbig = showimg(\n",
    "    juliaset(\n",
    "        -0.582819 + 0.314035im,\n",
    "        func = cubicfunc,\n",
    "        dims=(800,800),\n",
    "        xdomain=(-1.25,1.25),\n",
    "        ydomain=(-1.25,1.25),\n",
    "    )\n",
    ")"
   ]
  },
  {
   "cell_type": "markdown",
   "id": "3d577259",
   "metadata": {},
   "source": [
    "## Changing Number of Iterations\n",
    "\n",
    "The `maxiters` parameter controls how many times the function will be iterated before assumtg that it will never escape to infinity.  Lower `maxiters` means faster runtime, but also more points falsely classified as in the filled Julia set.\n",
    "\n",
    "Another side effect of changing `maxiters` is that the colors will shift.  This is because the colors are interpolated according to the *fraction* of `maxiters` taken to escape.  Hence higher `maxiters` will shift colors to the beginning of the spectrum, and lower `maxiters` towards the end.  If you don't like the image colors after changing `maxiters` (especially if it seems faint or lacking in contrast) consider changing the `colors` as well.\n",
    "\n",
    "The below image is what results from changing from the default `maxiters` of 800 to 200."
   ]
  },
  {
   "cell_type": "code",
   "execution_count": null,
   "id": "044852eb",
   "metadata": {},
   "outputs": [],
   "source": [
    "samplejuliacubiclowiter = showimg(\n",
    "    juliaset(\n",
    "        -0.582819 + 0.314035im,\n",
    "        func = cubicfunc,\n",
    "        dims=(800,800),\n",
    "        xdomain=(-1.25,1.25),\n",
    "        ydomain=(-1.25,1.25),\n",
    "        maxiters=200,\n",
    "    )\n",
    ")"
   ]
  },
  {
   "cell_type": "markdown",
   "id": "61c18518",
   "metadata": {},
   "source": [
    "## Mandelbrot Sets\n",
    "\n",
    "We can make Mandelbrot sets using the `mandelbrotset` function.  This includes the classic Mandelbrot set as well as the sets for other function (specify `func`; it's best to use a polynomial of degree at least 2 of the form `func(z,c) = h(z) + c`).\n",
    "\n",
    "You can also change the color scheme, viewport, number of iterations, etc. just like for Julia sets.  Note that the defaults are different.\n",
    "\n",
    "The `mandelbrotset` function does not currently contain a color smoothing feature present in `juliaset`, so it may show undesirable banding at lower values of `maxiters`.  This may be rectified in the future."
   ]
  },
  {
   "cell_type": "code",
   "execution_count": null,
   "id": "4bd08b9c",
   "metadata": {},
   "outputs": [],
   "source": [
    "mandelbrotbasic = showimg(mandelbrotset())"
   ]
  },
  {
   "cell_type": "code",
   "execution_count": null,
   "id": "b6397a36",
   "metadata": {},
   "outputs": [],
   "source": [
    "mandelbrotcubic = showimg(\n",
    "    mandelbrotset(func=cubicfunc)\n",
    ")"
   ]
  },
  {
   "cell_type": "markdown",
   "id": "c4842133",
   "metadata": {},
   "source": [
    "## Automatically Finding Interesting Fractals\n",
    "\n",
    "Some nice relationships between Mandelbrot sets and Julia sets allow us to automatically find parameters for Julia sets whose images have a much higher probability of being interesting or pretty.\n",
    "\n",
    "The `findinterestingjulia` function uses random guessing and checking to find a parameter c that meets the criteria for \"possible interestingness\", while the `findmandelbrotedge` function instead uses binary search to find an intersection of a segment with the boundary of the Mandelbrot fractal, which tends to result in interesting parameters.\n",
    "\n",
    "If you want to use these for Julia sets of a different function family, pass in the same `func` parameter you will use to construct the Julia set.\n",
    "\n",
    "Other optional function parameters are described in the source.\n",
    "\n",
    "The below cells demonstrate these two methods.  Each run of the cells generates a different fractal; if you like one and want to regenerate it (to change the size, color scheme, etc. or to tweak the `c` parameter) record the `c` value printed above the image."
   ]
  },
  {
   "cell_type": "code",
   "execution_count": null,
   "id": "9725fe4f",
   "metadata": {},
   "outputs": [],
   "source": [
    "cval = findinterestingjulia()\n",
    "println(cval)\n",
    "randomjulia = showimg(\n",
    "    juliaset(cval)\n",
    ")"
   ]
  },
  {
   "cell_type": "code",
   "execution_count": null,
   "id": "8b47069b",
   "metadata": {},
   "outputs": [],
   "source": [
    "cval = findmandelbrotedge()\n",
    "println(cval)\n",
    "randomjulia = showimg(\n",
    "    juliaset(cval)\n",
    ")"
   ]
  },
  {
   "cell_type": "markdown",
   "id": "1d651a57",
   "metadata": {},
   "source": [
    "## Animations\n",
    "\n",
    "The `juliamovie` and `zoomjuliamovie` functions can be used to create different types of animations.  These take a good while to run and can't be shown in a notebook, so see the `samples.jl` script for basic examples and the source for more details."
   ]
  },
  {
   "cell_type": "code",
   "execution_count": null,
   "id": "73a636bc",
   "metadata": {},
   "outputs": [],
   "source": []
  }
 ],
 "metadata": {
  "kernelspec": {
   "display_name": "Julia 1.8.2",
   "language": "julia",
   "name": "julia-1.8"
  },
  "language_info": {
   "file_extension": ".jl",
   "mimetype": "application/julia",
   "name": "julia",
   "version": "1.8.2"
  }
 },
 "nbformat": 4,
 "nbformat_minor": 5
}
